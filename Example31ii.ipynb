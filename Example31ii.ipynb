{
 "cells": [
  {
   "cell_type": "code",
   "execution_count": 1,
   "id": "066a9704",
   "metadata": {},
   "outputs": [
    {
     "data": {
      "text/plain": [
       "(z1, z2, z3, z4, l1, l2, t)"
      ]
     },
     "execution_count": 1,
     "metadata": {},
     "output_type": "execute_result"
    }
   ],
   "source": [
    "var('z1,z2,z3,z4,l1,l2,t')"
   ]
  },
  {
   "cell_type": "code",
   "execution_count": 2,
   "id": "65e2243a",
   "metadata": {},
   "outputs": [],
   "source": [
    "N=((1+(z1+z2)*t)*(1+(z1+z3)*t)*(1+(z1+z4)*t)*(1+l1*t)*(1+l2*t))"
   ]
  },
  {
   "cell_type": "code",
   "execution_count": 3,
   "id": "26feabc9",
   "metadata": {},
   "outputs": [
    {
     "data": {
      "text/plain": [
       "l1*l2*z1^3 + l1*l2*z1^2*z2 + l1*l2*z1^2*z3 + l1*l2*z1*z2*z3 + l1*l2*z1^2*z4 + l1*l2*z1*z2*z4 + l1*l2*z1*z3*z4 + l1*l2*z2*z3*z4"
      ]
     },
     "execution_count": 3,
     "metadata": {},
     "output_type": "execute_result"
    }
   ],
   "source": [
    "N5=(N.series(t,6)).coefficient(t^5); N5"
   ]
  },
  {
   "cell_type": "code",
   "execution_count": 4,
   "id": "0203e26e",
   "metadata": {},
   "outputs": [
    {
     "data": {
      "text/plain": [
       "(l1*l2*z1^2 + l1*l2*z1*z2 + l1*l2*z1*z3 + l1*l2*z2*z3 + l1*l2*z1*z4 + l1*l2*z2*z4 + l1*l2*z3*z4 + l1*z2*z3*z4 + l2*z2*z3*z4 - z1*z2*z3*z4)*z1"
      ]
     },
     "execution_count": 4,
     "metadata": {},
     "output_type": "execute_result"
    }
   ],
   "source": [
    "ContR=z1*((N/(1+t*z1)).series(t,5)).coefficient(t^4); ContR"
   ]
  },
  {
   "cell_type": "code",
   "execution_count": 5,
   "id": "77cfda9a",
   "metadata": {},
   "outputs": [
    {
     "data": {
      "text/plain": [
       "(l1*l2 + 3*l1*z1 + 3*l2*z1 + 3*z1^2 - 3*z1*(z2 + z3 + z4) - l1*(z2 + z3) - l2*(z2 + z3) + l1*z2 + l2*z2 + 2*z1*z2 - (z2 + z3 + z4)*z2 + z2^2 + l1*z3 + l2*z3 + 2*z1*z3 - (z2 + z3 + z4)*z3 + 2*z2*z3 + z3^2 + 2*z1*z4 + z2*z4 + z3*z4)*z2*z3*z4"
      ]
     },
     "execution_count": 5,
     "metadata": {},
     "output_type": "execute_result"
    }
   ],
   "source": [
    "ContS=z2*z3*z4*((N/((1+t*z2)*(1+t*z3)*(1+t*z4))).series(t,5)).coefficient(t^2); ContS"
   ]
  },
  {
   "cell_type": "code",
   "execution_count": 6,
   "id": "3a0d2b93",
   "metadata": {},
   "outputs": [
    {
     "data": {
      "text/plain": [
       "-4*l1 - 4*l2 - 2*z1 + z2 + z3 + z4"
      ]
     },
     "execution_count": 6,
     "metadata": {},
     "output_type": "execute_result"
    }
   ],
   "source": [
    "ContT=(N5-ContR-ContS)/(z1*z2*z3*z4); ContT.expand()"
   ]
  },
  {
   "cell_type": "code",
   "execution_count": 7,
   "id": "b378350e",
   "metadata": {},
   "outputs": [
    {
     "data": {
      "text/plain": [
       "l1 + l2 + 3*z1 + z2 + z3 + z4"
      ]
     },
     "execution_count": 7,
     "metadata": {},
     "output_type": "execute_result"
    }
   ],
   "source": [
    "N1=(N.series(t,6)).coefficient(t^1); N1"
   ]
  },
  {
   "cell_type": "code",
   "execution_count": 10,
   "id": "25706247",
   "metadata": {},
   "outputs": [
    {
     "data": {
      "text/plain": [
       "True"
      ]
     },
     "execution_count": 10,
     "metadata": {},
     "output_type": "execute_result"
    }
   ],
   "source": [
    "bool(-4*N1+5*(z2+z3+z4)+10*z1==ContT)"
   ]
  },
  {
   "cell_type": "code",
   "execution_count": null,
   "id": "7a56e63c",
   "metadata": {},
   "outputs": [],
   "source": []
  }
 ],
 "metadata": {
  "kernelspec": {
   "display_name": "SageMath 9.8",
   "language": "sage",
   "name": "sagemath-9.8"
  },
  "language_info": {
   "codemirror_mode": {
    "name": "ipython",
    "version": 3
   },
   "file_extension": ".py",
   "mimetype": "text/x-python",
   "name": "python",
   "nbconvert_exporter": "python",
   "pygments_lexer": "ipython3",
   "version": "3.11.1"
  }
 },
 "nbformat": 4,
 "nbformat_minor": 5
}

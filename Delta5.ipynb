{
 "cells": [
  {
   "cell_type": "code",
   "execution_count": 1,
   "id": "440edb18",
   "metadata": {},
   "outputs": [],
   "source": [
    "from admcycles import *"
   ]
  },
  {
   "cell_type": "raw",
   "id": "bea038c1",
   "metadata": {},
   "source": [
    "We form the extremal trees and their contributions."
   ]
  },
  {
   "cell_type": "code",
   "execution_count": 2,
   "id": "a90883ea",
   "metadata": {},
   "outputs": [],
   "source": [
    "Agraph=StableGraph([1,4],[[1],[2]],[(1,2)])\n",
    "Aclass=Agraph.boundary_pushforward([fundclass(1,1),-lambdaclass(3,4,1)+lambdaclass(2,4,1)*psiclass(1,4,1)-lambdaclass(1,4,1)*psiclass(1,4,1)^2+psiclass(1,4,1)^3])"
   ]
  },
  {
   "cell_type": "code",
   "execution_count": 3,
   "id": "a9118b8d",
   "metadata": {},
   "outputs": [],
   "source": [
    "Bgraph=StableGraph([1,3,1],[[1,2],[3],[4]],[(1,4),(2,3)])\n",
    "Bterm1=Bgraph.boundary_pushforward([fundclass(1,2),lambdaclass(2,3,1)-lambdaclass(1,3,1)*psiclass(1,3,1)+psiclass(1,3,1)^2,fundclass(1,1)])\n",
    "Bterm2=Bgraph.boundary_pushforward([-psiclass(1,1,2)-psiclass(2,1,2),lambdaclass(1,3,1),fundclass(1,1)])\n",
    "Bterm3=Bgraph.boundary_pushforward([psiclass(1,1,2)+2*psiclass(2,1,2),psiclass(1,3,1),fundclass(1,1)])\n",
    "Bclass=Bterm1+Bterm2+Bterm3"
   ]
  },
  {
   "cell_type": "code",
   "execution_count": 4,
   "id": "d1797bca",
   "metadata": {},
   "outputs": [],
   "source": [
    "Cgraph=StableGraph([1,2,2],[[1,2],[3],[4]],[(1,4),(2,3)])\n",
    "c=Cgraph.automorphism_number()\n",
    "Cterm1=Cgraph.boundary_pushforward([fundclass(1,2),fundclass(2,1),-lambdaclass(1,2,1)*psiclass(1,2,1)+psiclass(1,2,1)^2])\n",
    "Cterm2=Cgraph.boundary_pushforward([fundclass(1,2),lambdaclass(1,2,1)-psiclass(1,2,1),lambdaclass(1,2,1)])\n",
    "Cterm3=Cgraph.boundary_pushforward([fundclass(1,2),-lambdaclass(1,2,1)*psiclass(1,2,1)+psiclass(1,2,1)^2,fundclass(2,1)])\n",
    "Cterm4=Cgraph.boundary_pushforward([-psiclass(1,1,2)-psiclass(2,1,2),lambdaclass(1,2,1),fundclass(2,1)])\n",
    "Cterm5=Cgraph.boundary_pushforward([-psiclass(1,1,2)-psiclass(2,1,2),fundclass(2,1),lambdaclass(1,2,1)])\n",
    "Cterm6=Cgraph.boundary_pushforward([psiclass(1,1,2)+2*psiclass(2,1,2),psiclass(1,2,1),fundclass(2,1)])\n",
    "Cterm7=Cgraph.boundary_pushforward([fundclass(1,2),-lambdaclass(1,2,1)+psiclass(1,2,1),psiclass(1,2,1)])\n",
    "Cterm8=Cgraph.boundary_pushforward([2*psiclass(1,1,2)+psiclass(2,1,2),fundclass(2,1),psiclass(1,2,1)])\n",
    "Cclass=1/2*(Cterm1+Cterm2+Cterm3+Cterm4+Cterm5+Cterm6+Cterm7+Cterm8)\n"
   ]
  },
  {
   "cell_type": "code",
   "execution_count": 5,
   "id": "ea6a94be",
   "metadata": {},
   "outputs": [],
   "source": [
    "Dgraph=StableGraph([1,2,1,1],[[1,2,3],[4],[5],[6]],[(1,6),(2,5),(3,4)])\n",
    "Dterm1=Dgraph.boundary_pushforward([psiclass(1,1,3)+psiclass(2,1,3)+psiclass(3,1,3),fundclass(2,1),fundclass(1,1),fundclass(1,1)])\n",
    "Dterm2=Dgraph.boundary_pushforward([fundclass(1,3),psiclass(1,2,1)-lambdaclass(1,2,1),fundclass(1,1),fundclass(1,1)])\n",
    "Dclass=1/2*(Dterm1+Dterm2)"
   ]
  },
  {
   "cell_type": "code",
   "execution_count": 6,
   "id": "5e8d5aa2",
   "metadata": {},
   "outputs": [],
   "source": [
    "Egraph=StableGraph([1,1,1,1,1],[[1,2,3,4],[5],[6],[7],[8]],[(1,8),(2,7),(3,6),(4,5)])\n",
    "Eclass=1/24*Egraph.boundary_pushforward()"
   ]
  },
  {
   "cell_type": "code",
   "execution_count": 7,
   "id": "aa91f217",
   "metadata": {},
   "outputs": [],
   "source": [
    "ADgraph=StableGraph([0,1,1,1,2],[[1,2,3,4],[5],[6],[7],[8]],[(1,8),(2,7),(3,6),(4,5)])\n",
    "ADclass=(-4/2)*ADgraph.boundary_pushforward()\n"
   ]
  },
  {
   "cell_type": "code",
   "execution_count": 8,
   "id": "b80e3a35",
   "metadata": {},
   "outputs": [],
   "source": [
    "ABgraph=StableGraph([0,1,3,1],[[1,2,3],[4],[5],[6]],[(1,6),(2,5),(3,4)])\n",
    "ABclass=ABgraph.boundary_pushforward([fundclass(0,3),fundclass(1,1),3*lambdaclass(1,3,1)-4*psiclass(1,3,1),fundclass(1,1)])\n"
   ]
  },
  {
   "cell_type": "code",
   "execution_count": 9,
   "id": "7ee0011c",
   "metadata": {},
   "outputs": [],
   "source": [
    "ACgraph=StableGraph([0,1,2,2],[[1,2,3],[4],[5],[6]],[(1,6),(2,5),(3,4)])\n",
    "ACterm1=ACgraph.boundary_pushforward([fundclass(0,3),fundclass(1,1),3*lambdaclass(1,2,1)-4*psiclass(1,2,1),fundclass(2,1)])\n",
    "ACterm2=ACgraph.boundary_pushforward([fundclass(0,3),fundclass(1,1),fundclass(2,1),3*lambdaclass(1,2,1)-4*psiclass(1,2,1)])\n",
    "ACclass=1/2*(ACterm1+ACterm2)"
   ]
  },
  {
   "cell_type": "code",
   "execution_count": 10,
   "id": "a2c48379",
   "metadata": {},
   "outputs": [],
   "source": [
    "BDgraph=StableGraph([0,1,2,1,1],[[1,2,3],[4],[5],[6,7],[8]],[(1,4),(2,5),(3,6),(7,8)])\n",
    "BDclass=-3*BDgraph.boundary_pushforward()"
   ]
  },
  {
   "cell_type": "code",
   "execution_count": 11,
   "id": "ed731c48",
   "metadata": {},
   "outputs": [],
   "source": [
    "CDgraph=StableGraph([0,1,1,1,2],[[1,2,3],[4],[5],[6,7],[8]],[(1,4),(2,5),(3,6),(7,8)])\n",
    "CDclass=-3/2*CDgraph.boundary_pushforward()"
   ]
  },
  {
   "cell_type": "markdown",
   "id": "69fd2bfa",
   "metadata": {},
   "source": [
    "We compute lambda4."
   ]
  },
  {
   "cell_type": "code",
   "execution_count": 12,
   "id": "afc2321d",
   "metadata": {},
   "outputs": [],
   "source": [
    "R=TautologicalRing(5,moduli='ct')\n",
    "lambda4=R.lambdaclass(4)"
   ]
  },
  {
   "cell_type": "markdown",
   "id": "e333008d",
   "metadata": {},
   "source": [
    "We compute Delta5 and check that it is zero."
   ]
  },
  {
   "cell_type": "code",
   "execution_count": 13,
   "id": "6cf1d927",
   "metadata": {},
   "outputs": [
    {
     "data": {
      "text/plain": [
       "True"
      ]
     },
     "execution_count": 13,
     "metadata": {},
     "output_type": "execute_result"
    }
   ],
   "source": [
    "Delta5=Aclass+Bclass+Cclass+Dclass+Eclass+ADclass+ABclass+ACclass+BDclass+CDclass-11*lambda4\n",
    "Delta5.is_zero(moduli='ct')\n"
   ]
  },
  {
   "cell_type": "code",
   "execution_count": null,
   "id": "8a54ec6b",
   "metadata": {},
   "outputs": [],
   "source": []
  }
 ],
 "metadata": {
  "kernelspec": {
   "display_name": "SageMath 9.2",
   "language": "sage",
   "name": "sagemath_9_2_all"
  },
  "language_info": {
   "codemirror_mode": {
    "name": "ipython",
    "version": 3
   },
   "file_extension": ".py",
   "mimetype": "text/x-python",
   "name": "python",
   "nbconvert_exporter": "python",
   "pygments_lexer": "ipython3",
   "version": "3.8.5"
  }
 },
 "nbformat": 4,
 "nbformat_minor": 5
}

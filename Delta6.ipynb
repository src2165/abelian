{
 "cells": [
  {
   "cell_type": "markdown",
   "id": "74d4f7e0",
   "metadata": {},
   "source": [
    " Code for the computation of Delta6. You can download admcycles from here https://pypi.org/project/admcycles/"
   ]
  },
  {
   "cell_type": "code",
   "execution_count": 1,
   "id": "ed880509",
   "metadata": {},
   "outputs": [],
   "source": [
    "from admcycles import *"
   ]
  },
  {
   "cell_type": "markdown",
   "id": "60a0650a",
   "metadata": {},
   "source": [
    "We load all of the graphs and their contributions as in the paper. We convert them to a basis element in admcycles's chosen basis for R^5(M_6^ct)."
   ]
  },
  {
   "cell_type": "code",
   "execution_count": 2,
   "id": "0da38c1b",
   "metadata": {},
   "outputs": [],
   "source": [
    "Agraph=StableGraph([1,5],[[1],[2]],[(1,2)])\n",
    "Aclass=Agraph.boundary_pushforward([fundclass(1,1),lambdaclass(4,5,1)-lambdaclass(3,5,1)*psiclass(1,5,1)+lambdaclass(2,5,1)*psiclass(1,5,1)^2-lambdaclass(1,5,1)*psiclass(1,5,1)^3+psiclass(1,5,1)^4])\n",
    "Aclassct=(Aclass.toTautbasis(moduli='ct'))"
   ]
  },
  {
   "cell_type": "code",
   "execution_count": 3,
   "id": "c21bda40",
   "metadata": {},
   "outputs": [],
   "source": [
    "Bgraph=StableGraph([1,4,1],[[1,2],[3],[4]],[(1,4),(2,3)])\n",
    "Bclass1=Bgraph.boundary_pushforward([fundclass(1,2),-lambdaclass(3,4,1)+lambdaclass(2,4,1)*psiclass(1,4,1)-lambdaclass(1,4,1)*psiclass(1,4,1)^2+psiclass(1,4,1)^3,fundclass(1,1)])\n",
    "Bclass2=Bgraph.boundary_pushforward([psiclass(1,1,2)+psiclass(2,1,2),lambdaclass(2,4,1),fundclass(1,1)])\n",
    "Bclass3=Bgraph.boundary_pushforward([psiclass(1,1,2)+3*psiclass(2,1,2),psiclass(1,4,1)^2,fundclass(1,1)])\n",
    "Bclass4=Bgraph.boundary_pushforward([-2*psiclass(2,1,2)-psiclass(1,1,2),lambdaclass(1,4,1)*psiclass(1,4,1),fundclass(1,1)])\n",
    "Bclass=Bclass1+Bclass2+Bclass3+Bclass4\n",
    "Bclassct=(Bclass.toTautbasis(moduli='ct'))"
   ]
  },
  {
   "cell_type": "code",
   "execution_count": 4,
   "id": "cfbfd319",
   "metadata": {},
   "outputs": [],
   "source": [
    "Cgraph=StableGraph([1,3,2],[[1,2],[3],[4]],[(1,4),(2,3)])\n",
    "Cclass1=Cgraph.boundary_pushforward([fundclass(1,2),-lambdaclass(3,3,1)+lambdaclass(2,3,1)*psiclass(1,3,1)-lambdaclass(1,3,1)*psiclass(1,3,1)^2+psiclass(1,3,1)^3,fundclass(2,1)])\n",
    "Cclass2=Cgraph.boundary_pushforward([fundclass(1,2),-lambdaclass(2,3,1)+lambdaclass(1,3,1)*psiclass(1,3,1)-psiclass(1,3,1)^2,lambdaclass(1,2,1)])\n",
    "Cclass3=Cgraph.boundary_pushforward([psiclass(1,1,2)+psiclass(2,1,2),lambdaclass(2,3,1),fundclass(2,1)])\n",
    "Cclass4=Cgraph.boundary_pushforward([psiclass(1,1,2)+psiclass(2,1,2),lambdaclass(1,3,1),lambdaclass(1,2,1)])\n",
    "Cclass5=Cgraph.boundary_pushforward([-psiclass(1,1,2)-2*psiclass(2,1,2),lambdaclass(1,3,1)*psiclass(1,3,1),fundclass(2,1)])\n",
    "Cclass6=Cgraph.boundary_pushforward([psiclass(1,1,2)+3*psiclass(2,1,2),psiclass(1,3,1)^2,fundclass(2,1)])\n",
    "Cclass7=Cgraph.boundary_pushforward([fundclass(1,2),psiclass(1,3,1)-lambdaclass(1,3,1),psiclass(1,2,1)^2-psiclass(1,2,1)*lambdaclass(1,2,1)])\n",
    "Cclass8=Cgraph.boundary_pushforward([-2*psiclass(1,1,2)-psiclass(2,1,2),lambdaclass(1,3,1),psiclass(1,2,1)])\n",
    "Cclass9=Cgraph.boundary_pushforward([-2*psiclass(1,1,2)-psiclass(2,1,2),fundclass(3,1),lambdaclass(1,2,1)*psiclass(1,2,1)])\n",
    "Cclass10=Cgraph.boundary_pushforward([fundclass(1,2),lambdaclass(2,3,1)-lambdaclass(1,3,1)*psiclass(1,3,1)+psiclass(1,3,1)^2,psiclass(1,2,1)])\n",
    "Cclass11=Cgraph.boundary_pushforward([2*psiclass(1,1,2)+2*psiclass(2,1,2),psiclass(1,3,1),psiclass(1,2,1)])\n",
    "Cclass12=Cgraph.boundary_pushforward([-psiclass(1,1,2)-2*psiclass(2,1,2),psiclass(1,3,1),lambdaclass(1,2,1)])\n",
    "Cclass13=Cgraph.boundary_pushforward([3*psiclass(1,1,2)+psiclass(2,1,2),fundclass(3,1),psiclass(1,2,1)^2])\n",
    "Cclass=Cclass1+Cclass2+Cclass3+Cclass4+Cclass5+Cclass6+Cclass7+Cclass8+Cclass9+Cclass10+Cclass11+Cclass12+Cclass13\n",
    "Cclassct=(Cclass.toTautbasis(moduli='ct'))"
   ]
  },
  {
   "cell_type": "code",
   "execution_count": 5,
   "id": "330b9de8",
   "metadata": {},
   "outputs": [],
   "source": [
    "Dgraph=StableGraph([1,3,1,1],[[1,2,3],[4],[5],[6]],[(1,6),(2,5),(3,4)])\n",
    "Dclass1=1/2*Dgraph.boundary_pushforward([fundclass(1,3),lambdaclass(2,3,1)-lambdaclass(1,3,1)*psiclass(1,3,1)+psiclass(1,3,1)^2,fundclass(1,1),fundclass(1,1)])\n",
    "Dclass2=1/2*Dgraph.boundary_pushforward([psiclass(1,1,3)^2+psiclass(1,1,3)*psiclass(2,1,3)+psiclass(2,1,3)^2+psiclass(1,1,3)*psiclass(3,1,3)+psiclass(2,1,3)*psiclass(3,1,3)+psiclass(3,1,3)^2,fundclass(3,1),fundclass(1,1),fundclass(1,1)])\n",
    "Dclass3=1/2*Dgraph.boundary_pushforward([-psiclass(1,1,3)-psiclass(2,1,3)-psiclass(3,1,3),lambdaclass(1,3,1),fundclass(1,1),fundclass(1,1)])\n",
    "Dclass4=1/2*Dgraph.boundary_pushforward([psiclass(1,1,3)+psiclass(2,1,3)+2*psiclass(3,1,3),psiclass(1,3,1),fundclass(1,1),fundclass(1,1)])\n",
    "Dclass=Dclass1+Dclass2+Dclass3+Dclass4\n",
    "Dclassct=(Dclass.toTautbasis(moduli='ct'))"
   ]
  },
  {
   "cell_type": "code",
   "execution_count": 6,
   "id": "d44e7873",
   "metadata": {},
   "outputs": [],
   "source": [
    "Egraph=StableGraph([1,2,2,1],[[1,2,3],[4],[5],[6]],[(1,6),(2,5),(3,4)])\n",
    "Eclass1=1/2*Egraph.boundary_pushforward([psiclass(1,1,3)^2+psiclass(1,1,3)*psiclass(2,1,3)+psiclass(2,1,3)^2+psiclass(1,1,3)*psiclass(3,1,3)+psiclass(2,1,3)*psiclass(3,1,3)+psiclass(3,1,3)^2,fundclass(2,1),fundclass(2,1),fundclass(1,1)])\n",
    "Eclass2=1/2*Egraph.boundary_pushforward([-psiclass(1,1,3)-psiclass(2,1,3)-psiclass(3,1,3),lambdaclass(1,2,1),fundclass(2,1),fundclass(1,1)])\n",
    "Eclass3=1/2*Egraph.boundary_pushforward([-psiclass(1,1,3)-psiclass(2,1,3)-psiclass(3,1,3),fundclass(2,1),lambdaclass(1,2,1),fundclass(1,1)])\n",
    "Eclass4=1/2*Egraph.boundary_pushforward([fundclass(1,3),-lambdaclass(1,2,1)*psiclass(1,2,1)+psiclass(1,2,1)^2,fundclass(2,1),fundclass(1,1)])\n",
    "Eclass5=1/2*Egraph.boundary_pushforward([fundclass(1,3),fundclass(2,1),-lambdaclass(1,2,1)*psiclass(1,2,1)+psiclass(1,2,1)^2,fundclass(1,1)])\n",
    "Eclass6=1/2*Egraph.boundary_pushforward([psiclass(1,1,3)+psiclass(2,1,3)+2*psiclass(3,1,3),psiclass(1,2,1),fundclass(2,1),fundclass(1,1)])\n",
    "Eclass7=1/2*Egraph.boundary_pushforward([psiclass(1,1,3)+2*psiclass(2,1,3)+psiclass(3,1,3),fundclass(2,1),psiclass(1,2,1),fundclass(1,1)])\n",
    "Eclass8=1/2*Egraph.boundary_pushforward([fundclass(1,3),lambdaclass(1,2,1)-psiclass(1,2,1),lambdaclass(1,2,1)-psiclass(1,2,1),fundclass(1,1)])\n",
    "Eclass=Eclass1+Eclass2+Eclass3+Eclass4+Eclass5+Eclass6+Eclass7+Eclass8\n",
    "Eclassct=(Eclass.toTautbasis(moduli='ct')) "
   ]
  },
  {
   "cell_type": "code",
   "execution_count": 7,
   "id": "81525cfc",
   "metadata": {},
   "outputs": [],
   "source": [
    "Fgraph=StableGraph([1,2,1,1,1],[[1,2,3,4],[5],[6],[7],[8]],[(1,8),(2,7),(3,6),(4,5)])\n",
    "Fclass1=1/6*Fgraph.boundary_pushforward([fundclass(1,4),-lambdaclass(1,2,1)+psiclass(1,2,1),fundclass(1,1),fundclass(1,1),fundclass(1,1)])\n",
    "Fclass2=1/6*Fgraph.boundary_pushforward([psiclass(1,1,4)+psiclass(2,1,4)+psiclass(3,1,4)+psiclass(4,1,4),fundclass(2,1),fundclass(1,1),fundclass(1,1),fundclass(1,1)])\n",
    "Fclass=Fclass1+Fclass2\n",
    "Fclassct=(Fclass.toTautbasis(moduli='ct'))"
   ]
  },
  {
   "cell_type": "code",
   "execution_count": 8,
   "id": "635d6a6f",
   "metadata": {},
   "outputs": [],
   "source": [
    "Ggraph=StableGraph([1,1,1,1,1,1],[[1,2,3,4,5],[6],[7],[8],[9],[10]],[(1,10),(2,9),(3,8),(4,7),(5,6)])\n",
    "Gclass=1/120*Ggraph.boundary_pushforward()\n",
    "Gclassct=(Gclass.toTautbasis(moduli='ct'))"
   ]
  },
  {
   "cell_type": "code",
   "execution_count": 9,
   "id": "4c91d492",
   "metadata": {},
   "outputs": [],
   "source": [
    "ABgraph=StableGraph([1,0,1,4],[[1],[2,3,4],[5],[6]],[(1,2),(3,5),(4,6)])\n",
    "ABclass=ABgraph.boundary_pushforward([fundclass(1,1),fundclass(0,3),fundclass(1,1),-3*lambdaclass(2,4,1)+4*lambdaclass(1,4,1)*psiclass(1,4,1)-5*psiclass(1,4,1)^2])\n",
    "ABclassct=(ABclass.toTautbasis(moduli='ct'))"
   ]
  },
  {
   "cell_type": "code",
   "execution_count": 10,
   "id": "da10e413",
   "metadata": {},
   "outputs": [],
   "source": [
    "ACgraph=StableGraph([1,0,2,3],[[1],[2,3,4],[5],[6]],[(1,2),(3,5),(4,6)])\n",
    "ACclass1=ACgraph.boundary_pushforward([fundclass(1,1),fundclass(0,3),fundclass(2,1),-3*lambdaclass(2,3,1)+4*lambdaclass(1,3,1)*psiclass(1,3,1)-5*psiclass(1,3,1)^2])\n",
    "ACclass2=ACgraph.boundary_pushforward([fundclass(1,1),fundclass(0,3),4*lambdaclass(1,2,1)*psiclass(1,2,1)-5*psiclass(1,2,1)^2,fundclass(3,1)])\n",
    "ACclass3=ACgraph.boundary_pushforward([fundclass(1,1),fundclass(0,3),-3*lambdaclass(1,2,1)+4*psiclass(1,2,1),lambdaclass(1,3,1)])\n",
    "ACclass4=ACgraph.boundary_pushforward([fundclass(1,1),fundclass(0,3),4*lambdaclass(1,2,1)-5*psiclass(1,2,1),psiclass(1,3,1)])\n",
    "ACclass=ACclass1+ACclass2+ACclass3+ACclass4\n",
    "ACclassct=(ACclass.toTautbasis(moduli='ct'))"
   ]
  },
  {
   "cell_type": "code",
   "execution_count": 11,
   "id": "69f1264e",
   "metadata": {},
   "outputs": [],
   "source": [
    "ADgraph=StableGraph([1,0,1,1,3],[[1],[2,3,4,5],[7],[8],[9]],[(1,2),(3,7),(4,8),(5,9)])\n",
    "ADclass1=1/2*ADgraph.boundary_pushforward([fundclass(1,1),fundclass(0,4),fundclass(1,1),fundclass(1,1),4*lambdaclass(1,3,1)-5*psiclass(1,3,1)])\n",
    "ADclass2=1/2*ADgraph.boundary_pushforward([fundclass(1,1),-10*psiclass(1,0,4)-5*psiclass(2,0,4)-5*psiclass(3,0,4)-5*psiclass(4,0,4),fundclass(1,1),fundclass(1,1),fundclass(3,1)])\n",
    "ADclass=ADclass1+ADclass2\n",
    "ADclassct=(ADclass.toTautbasis(moduli='ct'))"
   ]
  },
  {
   "cell_type": "code",
   "execution_count": 12,
   "id": "8620f5b1",
   "metadata": {},
   "outputs": [],
   "source": [
    "AEgraph=StableGraph([1,0,1,2,2],[[1],[2,3,4,5],[7],[8],[9]],[(1,2),(3,7),(4,8),(5,9)])\n",
    "AEclass1=1/2*AEgraph.boundary_pushforward([fundclass(1,1),fundclass(0,4),fundclass(1,1),4*lambdaclass(1,2,1)-5*psiclass(1,2,1),fundclass(2,1)])\n",
    "AEclass2=1/2*AEgraph.boundary_pushforward([fundclass(1,1),fundclass(0,4),fundclass(1,1),fundclass(2,1),4*lambdaclass(1,2,1)-5*psiclass(1,2,1)])\n",
    "AEclass3=1/2*AEgraph.boundary_pushforward([fundclass(1,1),-10*psiclass(1,0,4)-5*psiclass(2,0,4)-5*psiclass(3,0,4)-5*psiclass(4,0,4),fundclass(1,1),fundclass(2,1),fundclass(2,1)])\n",
    "AEclass=AEclass1+AEclass2+AEclass3\n",
    "AEclassct=(AEclass.toTautbasis(moduli='ct'))"
   ]
  },
  {
   "cell_type": "code",
   "execution_count": 13,
   "id": "b0e5d121",
   "metadata": {},
   "outputs": [],
   "source": [
    "BDgraph=StableGraph([1,1,0,1,3],[[1,2],[3],[4,5,6],[7],[8]],[(1,4),(2,3),(5,7),(6,8)])\n",
    "BDclass1=BDgraph.boundary_pushforward([fundclass(1,2),fundclass(1,1),fundclass(0,3),fundclass(1,1),3*lambdaclass(1,3,1)-4*psiclass(1,3,1)])\n",
    "BDclass2=BDgraph.boundary_pushforward([-6*psiclass(1,1,2)-3*psiclass(2,1,2),fundclass(1,1),fundclass(0,3),fundclass(1,1),fundclass(3,1)])\n",
    "BDclass=BDclass1+BDclass2\n",
    "BDclassct=(BDclass.toTautbasis(moduli='ct'))"
   ]
  },
  {
   "cell_type": "code",
   "execution_count": 14,
   "id": "ede4a9ac",
   "metadata": {},
   "outputs": [],
   "source": [
    "BEgraph=StableGraph([1,1,0,2,2],[[1,2],[3],[4,5,6],[7],[8]],[(1,4),(2,3),(5,7),(6,8)])\n",
    "BEclass1=1/2*BEgraph.boundary_pushforward([fundclass(1,2),fundclass(1,1),fundclass(0,3),fundclass(2,1),3*lambdaclass(1,2,1)-4*psiclass(1,2,1)])\n",
    "BEclass2=1/2*BEgraph.boundary_pushforward([fundclass(1,2),fundclass(1,1),fundclass(0,3),3*lambdaclass(1,2,1)-4*psiclass(1,2,1),fundclass(2,1)])\n",
    "BEclass3=1/2*BEgraph.boundary_pushforward([-6*psiclass(1,1,2)-3*psiclass(2,1,2),fundclass(1,1),fundclass(0,3),fundclass(2,1),fundclass(2,1)])\n",
    "BEclass=BEclass1+BEclass2+BEclass3\n",
    "BEclassct=(BEclass.toTautbasis(moduli='ct'))"
   ]
  },
  {
   "cell_type": "code",
   "execution_count": 15,
   "id": "bb00a819",
   "metadata": {},
   "outputs": [],
   "source": [
    "CDgraph=StableGraph([1,3,0,1,1],[[1,2],[3],[4,5,6],[7],[8]],[(1,4),(2,3),(5,7),(6,8)])\n",
    "CDclass1=1/2*CDgraph.boundary_pushforward([fundclass(1,2),3*lambdaclass(1,3,1)-3*psiclass(1,3,1),fundclass(0,3),fundclass(1,1),fundclass(1,1)])\n",
    "CDclass2=1/2*CDgraph.boundary_pushforward([-6*psiclass(1,1,2)-3*psiclass(2,1,2),fundclass(3,1),fundclass(0,3),fundclass(1,1),fundclass(1,1)])\n",
    "CDclass=CDclass1+CDclass2\n",
    "CDclassct=(CDclass.toTautbasis(moduli='ct'))"
   ]
  },
  {
   "cell_type": "code",
   "execution_count": 16,
   "id": "49018b27",
   "metadata": {},
   "outputs": [],
   "source": [
    "CEgraph=StableGraph([1,2,0,1,2],[[1,2],[3],[4,5,6],[7],[8]],[(1,4),(2,3),(5,7),(6,8)])\n",
    "CEclass1=CEgraph.boundary_pushforward([fundclass(1,2),3*lambdaclass(1,2,1)-3*psiclass(1,2,1),fundclass(0,3),fundclass(1,1),fundclass(2,1)])\n",
    "CEclass2=CEgraph.boundary_pushforward([fundclass(1,2),fundclass(2,1),fundclass(0,3),fundclass(1,1),3*lambdaclass(1,2,1)-4*psiclass(1,2,1)])\n",
    "CEclass3=CEgraph.boundary_pushforward([-6*psiclass(1,1,2)-3*psiclass(2,1,2),fundclass(2,1),fundclass(0,3),fundclass(1,1),fundclass(2,1)])\n",
    "CEclass=CEclass1+CEclass2+CEclass3\n",
    "CEclassct=(CEclass.toTautbasis(moduli='ct'))"
   ]
  },
  {
   "cell_type": "code",
   "execution_count": 17,
   "id": "3fcfa997",
   "metadata": {},
   "outputs": [],
   "source": [
    "DFgraph=StableGraph([1,1,1,0,1,2],[[1,2,3],[4],[5],[6,7,8],[9],[10]],[(1,4),(2,5),(3,6),(7,9),(8,10)])\n",
    "DFclass=-3/2*DFgraph.boundary_pushforward()\n",
    "DFclassct=(DFclass.toTautbasis(moduli='ct'))"
   ]
  },
  {
   "cell_type": "code",
   "execution_count": 18,
   "id": "5d2c8923",
   "metadata": {},
   "outputs": [],
   "source": [
    "EFgraph=StableGraph([1,2,1,0,1,1],[[1,2,3],[4],[5],[6,7,8],[9],[10]],[(1,4),(2,5),(3,6),(7,9),(8,10)])\n",
    "EFclass=-3/2*EFgraph.boundary_pushforward()\n",
    "EFclassct=(EFclass.toTautbasis(moduli='ct'))"
   ]
  },
  {
   "cell_type": "code",
   "execution_count": 19,
   "id": "96f3a869",
   "metadata": {},
   "outputs": [],
   "source": [
    "ABDgraph=StableGraph([1,0,1,0,3,1],[[1],[2,3,4],[5],[6,7,8],[9],[10]],[(1,2),(3,5),(4,6),(7,9),(8,10)])\n",
    "ABDclass=15*ABDgraph.boundary_pushforward()\n",
    "ABDclassct=(ABDclass.toTautbasis(moduli='ct'))"
   ]
  },
  {
   "cell_type": "code",
   "execution_count": 20,
   "id": "5028256a",
   "metadata": {},
   "outputs": [],
   "source": [
    "ACDgraph=StableGraph([1,0,1,0,2,2],[[1],[2,3,4],[5],[6,7,8],[9],[10]],[(1,2),(3,5),(4,6),(7,9),(8,10)])\n",
    "ACDclass=15/2*ACDgraph.boundary_pushforward()\n",
    "ACDclassct=(ACDclass.toTautbasis(moduli='ct'))"
   ]
  },
  {
   "cell_type": "code",
   "execution_count": 21,
   "id": "6c3b83d4",
   "metadata": {},
   "outputs": [],
   "source": [
    "ABEgraph=StableGraph([1,0,3,0,1,1],[[1],[2,3,4],[5],[6,7,8],[9],[10]],[(1,2),(3,5),(4,6),(7,9),(8,10)])\n",
    "ABEclass=15/2*ABEgraph.boundary_pushforward()\n",
    "ABEclassct=(ABEclass.toTautbasis(moduli='ct'))"
   ]
  },
  {
   "cell_type": "code",
   "execution_count": 22,
   "id": "4d853d2d",
   "metadata": {},
   "outputs": [],
   "source": [
    "ACEgraph=StableGraph([1,0,2,0,2,1],[[1],[2,3,4],[5],[6,7,8],[9],[10]],[(1,2),(3,5),(4,6),(7,9),(8,10)])\n",
    "ACEclass=15*ACEgraph.boundary_pushforward()\n",
    "ACEclassct=(ACEclass.toTautbasis(moduli='ct'))"
   ]
  },
  {
   "cell_type": "code",
   "execution_count": 23,
   "id": "ae64a0f1",
   "metadata": {},
   "outputs": [],
   "source": [
    "AFgraph=StableGraph([1,0,1,1,1,2],[[1],[2,3,4,5,6],[7],[8],[9],[10]],[(1,2),(3,7),(4,8),(5,9),(6,10)])\n",
    "AFclass=-5/6*AFgraph.boundary_pushforward()\n",
    "AFclassct=(AFclass.toTautbasis(moduli='ct'))"
   ]
  },
  {
   "cell_type": "code",
   "execution_count": 24,
   "id": "3ccd6f02",
   "metadata": {},
   "outputs": [],
   "source": [
    "CFgraph=StableGraph([1,0,2,1,1,1],[[1,2],[3,4,5,6],[7],[8],[9],[10]],[(1,3),(2,7),(4,8),(5,9),(6,10)])\n",
    "CFclass=-4/6*CFgraph.boundary_pushforward()\n",
    "CFclassct=(CFclass.toTautbasis(moduli='ct'))"
   ]
  },
  {
   "cell_type": "code",
   "execution_count": 25,
   "id": "4121e460",
   "metadata": {},
   "outputs": [],
   "source": [
    "BFgraph=StableGraph([1,0,1,2,1,1],[[1,2],[3,4,5,6],[7],[8],[9],[10]],[(1,3),(2,7),(4,8),(5,9),(6,10)])\n",
    "BFclass=-4/2*BFgraph.boundary_pushforward()\n",
    "BFclassct=(BFclass.toTautbasis(moduli='ct'))"
   ]
  },
  {
   "cell_type": "markdown",
   "id": "d2a9c465",
   "metadata": {},
   "source": [
    "We compute the kernel class v of the intersection pairing R^4(M_6^ct) x R^5(M_6^ct)-->Q"
   ]
  },
  {
   "cell_type": "code",
   "execution_count": 53,
   "id": "97db3fcd",
   "metadata": {},
   "outputs": [],
   "source": [
    "R=TautologicalRing(6,moduli='ct')\n",
    "B4=R.basis(4)\n",
    "B5=R.basis(5)\n",
    "M = matrix([[(a*b).evaluate() for a in B4] for b in B5])\n",
    "v = M.kernel().basis()[0]\n"
   ]
  },
  {
   "cell_type": "markdown",
   "id": "cda0ce71",
   "metadata": {},
   "source": [
    "We compute lambda5 in admcycles's chosen basis."
   ]
  },
  {
   "cell_type": "code",
   "execution_count": 33,
   "id": "b78073e8",
   "metadata": {},
   "outputs": [],
   "source": [
    "lambda5=(R.lambdaclass(5)).toTautbasis(moduli='ct')"
   ]
  },
  {
   "cell_type": "markdown",
   "id": "46b2969f",
   "metadata": {},
   "source": [
    "We form Delta6 and check that it is proportional to the kernel class v"
   ]
  },
  {
   "cell_type": "code",
   "execution_count": 50,
   "id": "64eb74fb",
   "metadata": {},
   "outputs": [],
   "source": [
    "Delta6=list(-2730/691*lambda5+Aclassct+Bclassct+Cclassct+Dclassct+Eclassct+Fclassct+Gclassct+ABclassct+ACclassct+ADclassct+AEclassct+AFclassct+BDclassct+BEclassct+CDclassct+CEclassct+DFclassct+EFclassct+ABDclassct+ACDclassct+ABEclassct+ACEclassct+CFclassct+BFclassct)"
   ]
  },
  {
   "cell_type": "code",
   "execution_count": 51,
   "id": "2f8c0477",
   "metadata": {},
   "outputs": [
    {
     "data": {
      "text/plain": [
       "1"
      ]
     },
     "execution_count": 51,
     "metadata": {},
     "output_type": "execute_result"
    }
   ],
   "source": [
    "A=matrix([Delta6,v])\n",
    "A.rank()"
   ]
  }
 ],
 "metadata": {
  "kernelspec": {
   "display_name": "SageMath 9.2",
   "language": "sage",
   "name": "sagemath_9_2_all"
  },
  "language_info": {
   "codemirror_mode": {
    "name": "ipython",
    "version": 3
   },
   "file_extension": ".py",
   "mimetype": "text/x-python",
   "name": "python",
   "nbconvert_exporter": "python",
   "pygments_lexer": "ipython3",
   "version": "3.8.5"
  }
 },
 "nbformat": 4,
 "nbformat_minor": 5
}

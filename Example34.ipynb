{
 "cells": [
  {
   "cell_type": "code",
   "execution_count": 14,
   "id": "066a9704",
   "metadata": {},
   "outputs": [
    {
     "data": {
      "text/plain": [
       "(z1, z2, z3, z4, l1, l2, t)"
      ]
     },
     "execution_count": 14,
     "metadata": {},
     "output_type": "execute_result"
    }
   ],
   "source": [
    "var('z1,z2,z3,z4,l1,l2,t')"
   ]
  },
  {
   "cell_type": "code",
   "execution_count": 15,
   "id": "65e2243a",
   "metadata": {},
   "outputs": [
    {
     "data": {
      "text/plain": [
       "(l1*t + 1)*(l2*t + 1)*(t*(z1 + z3) + 1)*(t*(z1 + z4) + 1)*(t*z2 + 1)"
      ]
     },
     "execution_count": 15,
     "metadata": {},
     "output_type": "execute_result"
    }
   ],
   "source": [
    "N=(1+(z1+z3)*t)*(1+(z1+z4)*t)*(1+z2*t)*(1+l1*t)*(1+l2*t); N"
   ]
  },
  {
   "cell_type": "code",
   "execution_count": 16,
   "id": "aba619fb",
   "metadata": {},
   "outputs": [
    {
     "data": {
      "text/plain": [
       "l1 + l2 + 2*z1 + z2 + z3 + z4"
      ]
     },
     "execution_count": 16,
     "metadata": {},
     "output_type": "execute_result"
    }
   ],
   "source": [
    "N1=N.series(t,6).coefficient(t); N1"
   ]
  },
  {
   "cell_type": "code",
   "execution_count": 17,
   "id": "26feabc9",
   "metadata": {},
   "outputs": [
    {
     "data": {
      "text/plain": [
       "l1*l2*z1^2*z2 + l1*l2*z1*z2*z3 + l1*l2*z1*z2*z4 + l1*l2*z2*z3*z4"
      ]
     },
     "execution_count": 17,
     "metadata": {},
     "output_type": "execute_result"
    }
   ],
   "source": [
    "N5=(N.series(t,6)).coefficient(t^5); N5"
   ]
  },
  {
   "cell_type": "code",
   "execution_count": 18,
   "id": "0203e26e",
   "metadata": {},
   "outputs": [
    {
     "data": {
      "text/plain": [
       "(l1*l2*z1 + l1*l2*z3 + l1*l2*z4 + l1*z3*z4 + l2*z3*z4 - z1*z3*z4)*z1*z2"
      ]
     },
     "execution_count": 18,
     "metadata": {},
     "output_type": "execute_result"
    }
   ],
   "source": [
    "ContR=z1*z2*((N)/((1+t*z1)*(1+t*z2))).series(t,5).coefficient(t^3); ContR"
   ]
  },
  {
   "cell_type": "code",
   "execution_count": 19,
   "id": "77cfda9a",
   "metadata": {},
   "outputs": [
    {
     "data": {
      "text/plain": [
       "(l1*l2 + 2*l1*z1 + 2*l2*z1 + z1^2 - l1*(z3 + z4) - 2*z1*(z3 + z4) + l1*z3 + z1*z3 - (z3 + z4)*z3 + z3^2 + l1*z4 + z1*z4 - (z3 + z4)*z4 + 2*z3*z4 + z4^2)*z2*z3*z4"
      ]
     },
     "execution_count": 19,
     "metadata": {},
     "output_type": "execute_result"
    }
   ],
   "source": [
    "ContS=z2*z3*z4*((N)/((1+t*z2)*(1+t*z3)*(1+t*z4))).series(t,5).coefficient(t^2); ContS"
   ]
  },
  {
   "cell_type": "code",
   "execution_count": 20,
   "id": "074eed51",
   "metadata": {},
   "outputs": [
    {
     "data": {
      "text/plain": [
       "-3*l1*z1*z2*z3*z4 - 3*l2*z1*z2*z3*z4 + z1*z2*z3^2*z4 + z1*z2*z3*z4^2"
      ]
     },
     "execution_count": 20,
     "metadata": {},
     "output_type": "execute_result"
    }
   ],
   "source": [
    "(N5-ContR-ContS).expand()"
   ]
  },
  {
   "cell_type": "code",
   "execution_count": 21,
   "id": "3a0d2b93",
   "metadata": {},
   "outputs": [
    {
     "data": {
      "text/plain": [
       "-3*l1 - 3*l2 + z3 + z4"
      ]
     },
     "execution_count": 21,
     "metadata": {},
     "output_type": "execute_result"
    }
   ],
   "source": [
    "ContT=(N5-ContR-ContS)/(z1*z2*z3*z4); (ContT.expand()).simplify()"
   ]
  },
  {
   "cell_type": "code",
   "execution_count": 22,
   "id": "b378350e",
   "metadata": {},
   "outputs": [
    {
     "data": {
      "text/plain": [
       "True"
      ]
     },
     "execution_count": 22,
     "metadata": {},
     "output_type": "execute_result"
    }
   ],
   "source": [
    "bool(ContT==-3*N1+4*(z3+z4)+6*z1+3*z2)"
   ]
  },
  {
   "cell_type": "code",
   "execution_count": null,
   "id": "82728c96",
   "metadata": {},
   "outputs": [],
   "source": []
  }
 ],
 "metadata": {
  "kernelspec": {
   "display_name": "SageMath 9.8",
   "language": "sage",
   "name": "sagemath-9.8"
  },
  "language_info": {
   "codemirror_mode": {
    "name": "ipython",
    "version": 3
   },
   "file_extension": ".py",
   "mimetype": "text/x-python",
   "name": "python",
   "nbconvert_exporter": "python",
   "pygments_lexer": "ipython3",
   "version": "3.11.1"
  }
 },
 "nbformat": 4,
 "nbformat_minor": 5
}

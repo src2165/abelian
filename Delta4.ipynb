{
 "cells": [
  {
   "cell_type": "code",
   "execution_count": 1,
   "id": "2639329a",
   "metadata": {},
   "outputs": [],
   "source": [
    "from admcycles import *"
   ]
  },
  {
   "cell_type": "markdown",
   "id": "5efc4e2b",
   "metadata": {},
   "source": [
    "We input the extremal trees and their contributions."
   ]
  },
  {
   "cell_type": "code",
   "execution_count": 2,
   "id": "5ed3c613",
   "metadata": {},
   "outputs": [],
   "source": [
    "Agraph=StableGraph([1,3],[[1],[2]],[(1,2)])\n",
    "Aclass=Agraph.boundary_pushforward([fundclass(1,1),lambdaclass(2,3,1)-lambdaclass(1,3,1)*psiclass(1,3,1)+psiclass(1,3,1)^2])\n"
   ]
  },
  {
   "cell_type": "code",
   "execution_count": 3,
   "id": "9d57677a",
   "metadata": {},
   "outputs": [],
   "source": [
    "Bgraph=StableGraph([1,2,1],[[1,2],[3],[4]],[(1,4),(2,3)])\n",
    "Bclass1=Bgraph.boundary_pushforward([psiclass(1,1,2)+psiclass(2,1,2),fundclass(2,1),fundclass(1,1)])\n",
    "Bclass2=Bgraph.boundary_pushforward([fundclass(1,2),psiclass(1,2,1)-lambdaclass(1,2,1),fundclass(1,1)])\n",
    "Bclass=Bclass1+Bclass2"
   ]
  },
  {
   "cell_type": "code",
   "execution_count": 4,
   "id": "0089526d",
   "metadata": {},
   "outputs": [],
   "source": [
    "Cgraph=StableGraph([1,1,1,1],[[1,2,3],[4],[5],[6]],[(1,6),(2,5),(3,4)])\n",
    "Cclass=1/6*Cgraph.boundary_pushforward()"
   ]
  },
  {
   "cell_type": "code",
   "execution_count": 5,
   "id": "18912b34",
   "metadata": {},
   "outputs": [],
   "source": [
    "ABgraph=StableGraph([1,0,1,2],[[1],[2,3,4],[5],[6]],[(1,2),(3,6),(4,5)])\n",
    "ABclass=-3*ABgraph.boundary_pushforward()"
   ]
  },
  {
   "cell_type": "markdown",
   "id": "3132ae09",
   "metadata": {},
   "source": [
    "We compute lambda3 and Delta4 and check that Delta4 is zero."
   ]
  },
  {
   "cell_type": "code",
   "execution_count": 6,
   "id": "1d83ee0b",
   "metadata": {},
   "outputs": [],
   "source": [
    "R=TautologicalRing(4,moduli='ct')\n",
    "lambda3=R.lambdaclass(3)"
   ]
  },
  {
   "cell_type": "code",
   "execution_count": 7,
   "id": "1745bf8b",
   "metadata": {},
   "outputs": [
    {
     "data": {
      "text/plain": [
       "True"
      ]
     },
     "execution_count": 7,
     "metadata": {},
     "output_type": "execute_result"
    }
   ],
   "source": [
    "Delta4=Aclass+Bclass+Cclass+ABclass-20*lambda3\n",
    "Delta4.is_zero(moduli='ct')"
   ]
  }
 ],
 "metadata": {
  "kernelspec": {
   "display_name": "SageMath 9.2",
   "language": "sage",
   "name": "sagemath_9_2_all"
  },
  "language_info": {
   "codemirror_mode": {
    "name": "ipython",
    "version": 3
   },
   "file_extension": ".py",
   "mimetype": "text/x-python",
   "name": "python",
   "nbconvert_exporter": "python",
   "pygments_lexer": "ipython3",
   "version": "3.8.5"
  }
 },
 "nbformat": 4,
 "nbformat_minor": 5
}

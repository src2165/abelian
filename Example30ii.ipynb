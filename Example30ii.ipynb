{
 "cells": [
  {
   "cell_type": "code",
   "execution_count": 20,
   "id": "066a9704",
   "metadata": {},
   "outputs": [
    {
     "data": {
      "text/plain": [
       "(z1, z2, z3, l1, l2, t)"
      ]
     },
     "execution_count": 20,
     "metadata": {},
     "output_type": "execute_result"
    }
   ],
   "source": [
    "var('z1,z2,z3,l1,l2,t')"
   ]
  },
  {
   "cell_type": "code",
   "execution_count": 21,
   "id": "65e2243a",
   "metadata": {},
   "outputs": [],
   "source": [
    "N=((1+(z1+z2)*t)*(1+(z1+z3)*t)*(1+l1*t)*(1+l2*t))"
   ]
  },
  {
   "cell_type": "code",
   "execution_count": 22,
   "id": "f9aba52b",
   "metadata": {},
   "outputs": [
    {
     "data": {
      "text/plain": [
       "l1 + l2 + 2*z1 + z2 + z3"
      ]
     },
     "execution_count": 22,
     "metadata": {},
     "output_type": "execute_result"
    }
   ],
   "source": [
    "N1=(N.series(t,5)).coefficient(t^1); N1"
   ]
  },
  {
   "cell_type": "code",
   "execution_count": 23,
   "id": "26feabc9",
   "metadata": {},
   "outputs": [
    {
     "data": {
      "text/plain": [
       "l1*l2*z1^2 + l1*l2*z1*z2 + l1*l2*z1*z3 + l1*l2*z2*z3"
      ]
     },
     "execution_count": 23,
     "metadata": {},
     "output_type": "execute_result"
    }
   ],
   "source": [
    "N4=(N.series(t,5)).coefficient(t^4); N4"
   ]
  },
  {
   "cell_type": "code",
   "execution_count": 24,
   "id": "0203e26e",
   "metadata": {},
   "outputs": [
    {
     "data": {
      "text/plain": [
       "(l1*l2*z1 + l1*l2*z2 + l1*l2*z3 + l1*z2*z3 + l2*z2*z3 - z1*z2*z3)*z1"
      ]
     },
     "execution_count": 24,
     "metadata": {},
     "output_type": "execute_result"
    }
   ],
   "source": [
    "ContR=z1*((N/(1+t*z1)).series(t,5)).coefficient(t^3); ContR"
   ]
  },
  {
   "cell_type": "code",
   "execution_count": 25,
   "id": "77cfda9a",
   "metadata": {},
   "outputs": [
    {
     "data": {
      "text/plain": [
       "(l1*l2 + 2*l1*z1 + 2*l2*z1 + z1^2 - z1*z2 - z1*z3)*z2*z3"
      ]
     },
     "execution_count": 25,
     "metadata": {},
     "output_type": "execute_result"
    }
   ],
   "source": [
    "ContS=z2*z3*((N/((1+t*z2)*(1+t*z3))).series(t,5)).coefficient(t^2); ContS"
   ]
  },
  {
   "cell_type": "code",
   "execution_count": 26,
   "id": "3a0d2b93",
   "metadata": {},
   "outputs": [
    {
     "data": {
      "text/plain": [
       "-3*l1 - 3*l2 + z2 + z3"
      ]
     },
     "execution_count": 26,
     "metadata": {},
     "output_type": "execute_result"
    }
   ],
   "source": [
    "ContT=(N4-ContR-ContS)/(z1*z2*z3); ContT.expand()"
   ]
  },
  {
   "cell_type": "code",
   "execution_count": 28,
   "id": "b378350e",
   "metadata": {},
   "outputs": [
    {
     "data": {
      "text/plain": [
       "True"
      ]
     },
     "execution_count": 28,
     "metadata": {},
     "output_type": "execute_result"
    }
   ],
   "source": [
    "bool(ContT==-3*N1+6*z1+4*z2+4*z3)"
   ]
  },
  {
   "cell_type": "code",
   "execution_count": null,
   "id": "e7616da5",
   "metadata": {},
   "outputs": [],
   "source": []
  }
 ],
 "metadata": {
  "kernelspec": {
   "display_name": "SageMath 9.8",
   "language": "sage",
   "name": "sagemath-9.8"
  },
  "language_info": {
   "codemirror_mode": {
    "name": "ipython",
    "version": 3
   },
   "file_extension": ".py",
   "mimetype": "text/x-python",
   "name": "python",
   "nbconvert_exporter": "python",
   "pygments_lexer": "ipython3",
   "version": "3.11.1"
  }
 },
 "nbformat": 4,
 "nbformat_minor": 5
}

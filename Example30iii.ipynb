{
 "cells": [
  {
   "cell_type": "code",
   "execution_count": 26,
   "id": "066a9704",
   "metadata": {},
   "outputs": [
    {
     "data": {
      "text/plain": [
       "(z1, z2, z3, l1, l2, t)"
      ]
     },
     "execution_count": 26,
     "metadata": {},
     "output_type": "execute_result"
    }
   ],
   "source": [
    "var('z1,z2,z3,l1,l2,t')"
   ]
  },
  {
   "cell_type": "code",
   "execution_count": 27,
   "id": "65e2243a",
   "metadata": {},
   "outputs": [],
   "source": [
    "N=((1+(z1+z2)*t)*(1+(z1+z3)*t)*(1+l1*t)*(1+l2*t))"
   ]
  },
  {
   "cell_type": "code",
   "execution_count": 28,
   "id": "26feabc9",
   "metadata": {},
   "outputs": [
    {
     "data": {
      "text/plain": [
       "0"
      ]
     },
     "execution_count": 28,
     "metadata": {},
     "output_type": "execute_result"
    }
   ],
   "source": [
    "N5=(N.series(t,6)).coefficient(t^5); N5"
   ]
  },
  {
   "cell_type": "code",
   "execution_count": 29,
   "id": "0203e26e",
   "metadata": {},
   "outputs": [
    {
     "data": {
      "text/plain": [
       "(l1*l2*z2*z3 - l1*z1*z2*z3 - l2*z1*z2*z3 + z1^2*z2*z3)*z1"
      ]
     },
     "execution_count": 29,
     "metadata": {},
     "output_type": "execute_result"
    }
   ],
   "source": [
    "ContR=z1*((N/(1+t*z1)).series(t,5)).coefficient(t^4); ContR"
   ]
  },
  {
   "cell_type": "code",
   "execution_count": 30,
   "id": "77cfda9a",
   "metadata": {},
   "outputs": [
    {
     "data": {
      "text/plain": [
       "(2*l1*l2*z1 + l1*z1^2 + l2*z1^2 - l1*z1*z2 - l2*z1*z2 - z1^2*z2 + z1*z2^2 - l1*z1*z3 - l2*z1*z3 - z1^2*z3 + z1*z3^2)*z2*z3"
      ]
     },
     "execution_count": 30,
     "metadata": {},
     "output_type": "execute_result"
    }
   ],
   "source": [
    "ContS=z2*z3*((N/((1+t*z2)*(1+t*z3))).series(t,5)).coefficient(t^3); ContS"
   ]
  },
  {
   "cell_type": "code",
   "execution_count": 31,
   "id": "3a0d2b93",
   "metadata": {},
   "outputs": [
    {
     "data": {
      "text/plain": [
       "-3*l1*l2 - z1^2 + l1*z2 + l2*z2 + z1*z2 - z2^2 + l1*z3 + l2*z3 + z1*z3 - z3^2"
      ]
     },
     "execution_count": 31,
     "metadata": {},
     "output_type": "execute_result"
    }
   ],
   "source": [
    "ContT=(N5-ContR-ContS)/(z1*z2*z3); ContT.expand()"
   ]
  },
  {
   "cell_type": "code",
   "execution_count": 32,
   "id": "31a4c8b8",
   "metadata": {},
   "outputs": [
    {
     "data": {
      "text/plain": [
       "l1*l2 + 2*l1*z1 + 2*l2*z1 + z1^2 + l1*z2 + l2*z2 + z1*z2 + l1*z3 + l2*z3 + z1*z3 + z2*z3"
      ]
     },
     "execution_count": 32,
     "metadata": {},
     "output_type": "execute_result"
    }
   ],
   "source": [
    "N2=(N.series(t,6)).coefficient(t^2); (N2).expand()"
   ]
  },
  {
   "cell_type": "code",
   "execution_count": 33,
   "id": "51971d25",
   "metadata": {},
   "outputs": [
    {
     "data": {
      "text/plain": [
       "l1 + l2 + 2*z1 + z2 + z3"
      ]
     },
     "execution_count": 33,
     "metadata": {},
     "output_type": "execute_result"
    }
   ],
   "source": [
    "N1=(N.series(t,6)).coefficient(t^1); (N1).expand()"
   ]
  },
  {
   "cell_type": "code",
   "execution_count": 36,
   "id": "3b4a3d86",
   "metadata": {},
   "outputs": [
    {
     "data": {
      "text/plain": [
       "True"
      ]
     },
     "execution_count": 36,
     "metadata": {},
     "output_type": "execute_result"
    }
   ],
   "source": [
    "bool((6*(N1.expand())*z1-10*z1^2+4*(N1.expand())*(z2+z3)-10*(z2+z3)*z1-5*(z2+z3)^2 - 3*(N2.expand())+5*z2*z3).expand()==ContT)"
   ]
  },
  {
   "cell_type": "code",
   "execution_count": null,
   "id": "ee4842a6",
   "metadata": {},
   "outputs": [],
   "source": []
  }
 ],
 "metadata": {
  "kernelspec": {
   "display_name": "SageMath 9.8",
   "language": "sage",
   "name": "sagemath-9.8"
  },
  "language_info": {
   "codemirror_mode": {
    "name": "ipython",
    "version": 3
   },
   "file_extension": ".py",
   "mimetype": "text/x-python",
   "name": "python",
   "nbconvert_exporter": "python",
   "pygments_lexer": "ipython3",
   "version": "3.11.1"
  }
 },
 "nbformat": 4,
 "nbformat_minor": 5
}
